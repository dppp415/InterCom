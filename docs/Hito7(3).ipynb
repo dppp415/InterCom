{
 "cells": [
  {
   "cell_type": "markdown",
   "id": "431f360e-db82-4595-b264-d71123997554",
   "metadata": {},
   "source": [
    "# Hito 7. Transform Coding for Redundancy Removal"
   ]
  },
  {
   "cell_type": "markdown",
   "id": "9b505ba5-7b73-4b27-856a-70e20f6dfd7d",
   "metadata": {},
   "source": [
    "## Alumnos: David Pérez Pérez, Jose Cabrera Pérez, Jesús David Martínez Valdés y Tomás García Tobarra."
   ]
  },
  {
   "cell_type": "markdown",
   "id": "83e4475a-18f8-4740-9fb6-0d6d19979910",
   "metadata": {},
   "source": [
    "## RD Curves (MST16, MST32, DWT-no-overlapped, DWT-overlapped)"
   ]
  },
  {
   "cell_type": "markdown",
   "id": "f4a1e29f-de8e-4671-acf5-396a258b74f5",
   "metadata": {},
   "source": [
    "Para determinar las curvas RD de los 4 scripts, vamos a establecer el parámetro -q (--minimal_quantization_step parameter) en 1024 para empeorar la calidad y poder observar mejor luego los cambios en las gráficas. El valor del parámetro se mantiene para los 4 códigos de tal manera que se pueda posteriormente comparar mejor los resultados. También indicar que se usará en todos los scripts el mismo archivo de audio."
   ]
  },
  {
   "cell_type": "markdown",
   "id": "21b4d19e-ec55-4f24-8dbf-aa25ac4adff8",
   "metadata": {},
   "source": [
    "## MST16"
   ]
  },
  {
   "cell_type": "markdown",
   "id": "12ada3b3-4e24-415c-8e04-188327ee81a9",
   "metadata": {},
   "source": [
    "Para este script, lo ejecutamos de la siguiente manera python3 stereo_MST_coding_16.py --show_stats -f ../data/AviadorDro_LaZonaFantasma.oga -q 1024.\n",
    "\n",
    "Obteniendo la siguiente salida:\n",
    "\n",
    "![Salida MST16](Img/mst16.png)"
   ]
  },
  {
   "cell_type": "markdown",
   "id": "3f81b24f-6c30-4c92-a0af-df137d877e01",
   "metadata": {},
   "source": [
    "## MST32"
   ]
  },
  {
   "cell_type": "markdown",
   "id": "c1a1f3c6-cbea-4645-83eb-9ea5434fb718",
   "metadata": {},
   "source": [
    "Para este script, lo ejecutamos de la siguiente manera python3 stereo_MST_coding_32.py --show_stats -f ../data/AviadorDro_LaZonaFantasma.oga -q 1024.\n",
    "\n",
    "Obteniendo la siguiente salida:\n",
    "\n",
    "![Salida MST32](Img/mst32.png)"
   ]
  },
  {
   "cell_type": "markdown",
   "id": "ab8f6cb7-3092-474e-9ee8-e0ddd641f556",
   "metadata": {},
   "source": [
    "## DWT-no-overlapped"
   ]
  },
  {
   "cell_type": "markdown",
   "id": "8e1e6604-93d0-46f7-be30-9cfa4c790f5d",
   "metadata": {},
   "source": [
    "Para este script, lo ejecutamos de la siguiente manera python3 temporal_no_overlapped_DWT_coding.py --show_stats -f ../data/AviadorDro_LaZonaFantasma.oga -q 1024.\n",
    "\n",
    "Obteniendo la siguiente salida:\n",
    "\n",
    "![Salida DWT-no-overlapped](Img/temporal-no-overlapped.png)"
   ]
  },
  {
   "cell_type": "markdown",
   "id": "4fe9816e-780d-4087-80a9-57fc5b929444",
   "metadata": {},
   "source": [
    "## DWT-overlapped"
   ]
  },
  {
   "cell_type": "markdown",
   "id": "9d624497-42c2-49a3-b302-d484e7c37a63",
   "metadata": {},
   "source": [
    "Por último, el script de DWT-overlapped que ejecutamos de la siguiente manera: python3 temporal_overlapped_DWT_coding.py --show_stats -f ../data/AviadorDro_LaZonaFantasma.oga -q 1024.\n",
    "\n",
    "Obteniendo la siguiente salida:\n",
    "\n",
    "![Salida DWT-overlapped](Img/temporal-overlapped.png)"
   ]
  },
  {
   "cell_type": "markdown",
   "id": "c3995494-77c0-47fa-ac39-5302edbfcbb0",
   "metadata": {},
   "source": [
    "## Comparación Resultados"
   ]
  },
  {
   "cell_type": "markdown",
   "id": "719a5199-17bc-44de-94ed-a78f3367cffa",
   "metadata": {},
   "source": [
    "Una vez obtenida todas las salidas lo siguiente es quedarnos con los datos que nos interesan de la tabla que son el RMSE/sample y los KBPS para representar una gráfica en conjunto de los resultados de la ejecución de los 4 scripts y poder comparar los resultados.\n",
    "\n",
    "![Salida 4 curvas](Img/curvas4.png)"
   ]
  },
  {
   "cell_type": "markdown",
   "id": "1a0c32cf-be02-49a4-ba57-64ad6e002a27",
   "metadata": {},
   "source": [
    "## Visualize"
   ]
  },
  {
   "cell_type": "markdown",
   "id": "4906d292-732a-42f6-9684-e07b9cfbd422",
   "metadata": {},
   "source": [
    "Para poder ver el efecto de la cuantización en directo necesitamos:\n",
    "    - Ejecutar (y dejar en segundo plano) una instancia de qjackctl.\n",
    "    - Conocer (tras ejecutar qjackctl) cuáles son los dispositivos de audio de nuestro pc y su identificador.\n",
    "    - Ejecutar el código temporal_overlapped_DWT_coding.py con los parámetros -i y -o\n",
    "    - Ejecutar (de la carpeta de test/transform) el código dwt5.py con el parámetro -d\n",
    "\n",
    "Con los parámetros -i y -o indicamos el id del dispositivo de audio del que vamos a hacer uso (-i para la entrada y -o para la salida). Con -d lo mismo. El objetivo es comunicar la salida del temporal_overlapped_DWT_coding.py con la entrada del dwt5.py de tal manera que podamos ver en la gráfica de salida del dwt5.py el resultado de la cuantización en directo de todo sonido que entre por el micrófono de mi ordenador.\n"
   ]
  },
  {
   "cell_type": "markdown",
   "id": "20f70834-d355-41e6-931d-fb80e1c6a69a",
   "metadata": {},
   "source": [
    "![Qjackctl &](Img/qjackctl.png)"
   ]
  },
  {
   "cell_type": "markdown",
   "id": "08714987-20ba-4df5-9a65-a87b40d9264b",
   "metadata": {},
   "source": [
    "![pyhton3 minimal.py -d](Img/dispositivos.png)"
   ]
  },
  {
   "cell_type": "markdown",
   "id": "7fe33168-5b49-4156-bdea-5bf205797faa",
   "metadata": {},
   "source": [
    "![python3 temporal_overlapped_DWT_coding.py -i 11 -o 11 --show_stats -q 8192](Img/temporal.png)"
   ]
  },
  {
   "cell_type": "markdown",
   "id": "6ce9e94f-13fa-4f0e-b149-d59d5a49197a",
   "metadata": {},
   "source": [
    "![python dwt5.py -d 11](Img/dwt5.png)"
   ]
  },
  {
   "cell_type": "markdown",
   "id": "3ce81f5e-5ca8-4ec6-a7d6-ff3c89f0ee29",
   "metadata": {},
   "source": [
    "![Salida](Img/Grafica.png)"
   ]
  }
 ],
 "metadata": {
  "kernelspec": {
   "display_name": "Python 3 (ipykernel)",
   "language": "python",
   "name": "python3"
  },
  "language_info": {
   "codemirror_mode": {
    "name": "ipython",
    "version": 3
   },
   "file_extension": ".py",
   "mimetype": "text/x-python",
   "name": "python",
   "nbconvert_exporter": "python",
   "pygments_lexer": "ipython3",
   "version": "3.10.12"
  }
 },
 "nbformat": 4,
 "nbformat_minor": 5
}
